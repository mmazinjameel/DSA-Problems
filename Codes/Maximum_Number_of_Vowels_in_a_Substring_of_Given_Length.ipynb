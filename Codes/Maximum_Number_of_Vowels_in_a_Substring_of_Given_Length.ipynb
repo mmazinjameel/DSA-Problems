{
 "cells": [
  {
   "cell_type": "markdown",
   "metadata": {},
   "source": []
  },
  {
   "cell_type": "code",
   "execution_count": null,
   "metadata": {
    "vscode": {
     "languageId": "plaintext"
    }
   },
   "outputs": [],
   "source": [
    "class Solution:\n",
    "    def maxVowels(self, s: str, k: int) -> int:\n",
    "        l = 0\n",
    "        vocab = set(\"aeiou\")  # Define the set of vowels\n",
    "        max_vowel = 0\n",
    "        count = 0  # To track the number of vowels in the window\n",
    "\n",
    "        for r in range(len(s)):\n",
    "            if s[r] in vocab:\n",
    "                count += 1  # Add vowel to count\n",
    "\n",
    "            # If window size exceeds k, shrink from the left\n",
    "            if r - l + 1 > k:\n",
    "                if s[l] in vocab:\n",
    "                    count -= 1  # Remove vowel from count\n",
    "                l += 1  # Move left pointer\n",
    "\n",
    "            # Update max_vowel when the window size is exactly k\n",
    "            if r - l + 1 == k:\n",
    "                max_vowel = max(max_vowel, count)\n",
    "\n",
    "        return max_vowel\n"
   ]
  }
 ],
 "metadata": {
  "language_info": {
   "name": "python"
  }
 },
 "nbformat": 4,
 "nbformat_minor": 2
}
